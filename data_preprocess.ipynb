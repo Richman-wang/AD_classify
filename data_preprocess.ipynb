{
 "cells": [
  {
   "cell_type": "code",
   "execution_count": null,
   "metadata": {},
   "outputs": [],
   "source": [
    "# 将3D的nii影像转为2D的jpg图像，并将前面15张以及后15张丢弃\n",
    "\n",
    "import numpy as np\n",
    "import os                #用于遍历文件夹\n",
    "import nibabel as nib    #用nibabel包打开nii文件\n",
    "import imageio           #图像io\n",
    "\n",
    "def nii_to_image(niifile):\n",
    "    filenames = os.listdir(filepath)  #指定nii所在的文件夹\n",
    "    print(filenames)\n",
    "    for f in filenames:\n",
    "        #开始读取nii文件\n",
    "        img_path = os.path.join(filepath, f)\n",
    "        print(img_path)\n",
    "        img = nib.load(img_path) \n",
    "        #img.slicer[slice]#读取nii\n",
    "        img = img.slicer[:,:,:]\n",
    "#         img = img.dataobj[:,:,:,0]\n",
    "#         print(img.shape)\n",
    "        img_fdata = img.get_fdata()\n",
    "    \n",
    "        fnamex = f.replace('.nii','_x')            #去掉nii的后缀名创建x方向2D图像文件夹\n",
    "        img_f_pathx = os.path.join(imgfile, fnamex) #创建nii对应的x方向2D图像的文件夹\n",
    "        if not os.path.exists(img_f_pathx):\n",
    "            os.mkdir(img_f_pathx)                #新建文件夹\n",
    "        \n",
    "        fnamey = f.replace('.nii','_y')            #去掉nii的后缀名创建y方向2D图像文件夹\n",
    "        img_f_pathy = os.path.join(imgfile, fnamey) #创建nii对应的y方向2D图像的文件夹\n",
    "        if not os.path.exists(img_f_pathy):\n",
    "            os.mkdir(img_f_pathy)                #新建文件夹\n",
    "        \n",
    "        fnamez = f.replace('.nii','_z')            #去掉nii的后缀名创建z方向2D图像文件夹\n",
    "        img_f_pathz = os.path.join(imgfile, fnamez) #创建nii对应的z方向2D图像图像的文件夹\n",
    "        if not os.path.exists(img_f_pathz):\n",
    "            os.mkdir(img_f_pathz)                #新建文件夹\n",
    "         \n",
    "        #开始转换为图像\n",
    "        #可能用到的图像变换\n",
    "        #旋转操作利用numpy 的rot90（a,b）函数 a为数据 b为旋转90度的多少倍 ！正数逆时针 负数顺时针\n",
    "        # 左右翻转 ： img_lr = np.fliplr(img) 上下翻转： img_ud = np.flipud(img)   \n",
    "        (x,y,z) = img.shape #获取图像的3个方向的维度\n",
    "        for i in range(30,x-30):                      #x方向\n",
    "            silce = img_fdata[i, :, :]         #选择哪个方向的切片都可以 不要忘了i改到对应方向\n",
    "            imageio.imwrite(os.path.join(img_f_pathx, 'add'+ str(fnamex)[8:len(fnamex)] +'_'+'{}.jpg'.format(i)), silce) #保存图像\n",
    "        for i in range(30,y-15):                      #y方向\n",
    "            silce = np.rot90(img_fdata[:, i, :],1)\n",
    "            imageio.imwrite(os.path.join(img_f_pathy, 'add'+ str(fnamey)[8:len(fnamex)] +'_'+'{}.jpg'.format(i)), silce) #保存图像\n",
    "        for i in range(30,z-30):                      #z方向\n",
    "            silce = np.fliplr(np.rot90(img_fdata[:, :, i],-1))\n",
    "            imageio.imwrite(os.path.join(img_f_pathz, 'add'+str(fnamez)[8:len(fnamex)] +'_'+'{}.jpg'.format(i)), silce) #保存图像\n",
    "                    \n",
    "if __name__ == '__main__':\n",
    "    filepath = './data_v4/train_add/NC'\n",
    "    imgfile = './data_v4/train_2D/NC'\n",
    "    nii_to_image(filepath)"
   ]
  },
  {
   "cell_type": "code",
   "execution_count": 1,
   "metadata": {},
   "outputs": [
    {
     "data": {
      "text/plain": [
       "'/home/AD_classify'"
      ]
     },
     "execution_count": 1,
     "metadata": {},
     "output_type": "execute_result"
    }
   ],
   "source": [
    "pwd"
   ]
  },
  {
   "cell_type": "code",
   "execution_count": null,
   "metadata": {},
   "outputs": [],
   "source": [
    "#!/usr/bin/python  \n",
    "# -*- coding:utf8 -*-  \n",
    "  \n",
    "# import os\n",
    "# import sys\n",
    "# import shutil\n",
    "\n",
    "# def ReName(filpath, dstpath):\n",
    "#     file_list = os.listdir(filpath)\n",
    "#     print(file_list)\n",
    "#     for video_index in range(0, len(file_list)):\n",
    "#         full_name = os.path.join(filpath, file_list[video_index])\n",
    "#         print(full_name)\n",
    "#         file = os.listdir(full_name)\n",
    "#         print(file)\n",
    "#         for file_name in file:\n",
    "#             src = os.path.join(full_name,file_name)\n",
    "#             print(src)\n",
    "# #             dst = os.path.join(full_name, str(file_list[video_index]) + '_'+ file_name)\n",
    "# #             os.rename(src,dst)\n",
    "#             shutil.move(src,dstpath)\n",
    "            \n",
    "# if __name__ == '__main__':\n",
    "#     filepath = './data/test_2D'\n",
    "#     dstpath = './data/test_all'\n",
    "#     ReName(filepath,dstpath)"
   ]
  },
  {
   "cell_type": "code",
   "execution_count": 12,
   "metadata": {},
   "outputs": [
    {
     "name": "stdout",
     "output_type": "stream",
     "text": [
      "./data_v4/train_2D/NC\n"
     ]
    }
   ],
   "source": [
    "import shutil\n",
    "import os\n",
    " \n",
    "def remove_file(old_path, new_path):\n",
    "    print(old_path)\n",
    "#     print(new_path)\n",
    "    filelist = os.listdir(old_path) #列出该目录下的所有文件,listdir返回的文件列表是不包含路径的。\n",
    "    for file in filelist:\n",
    "        imgpath = os.path.join(filepath,file)\n",
    "        imglist = os.listdir(imgpath)\n",
    "        for img in imglist:\n",
    "            src = os.path.join(imgpath, img)\n",
    "            dst = os.path.join(new_path, img)\n",
    "#         print('src:', src)\n",
    "#         print('dst:', dst)\n",
    "            shutil.move(src, dst)\n",
    "\n",
    "if __name__ == '__main__':\n",
    "    \n",
    "    filepath = './data_v4/train_2D/NC'\n",
    "    dstpath = './data_v4/train_all/NC'\n",
    "    remove_file(filepath, dstpath)"
   ]
  },
  {
   "cell_type": "code",
   "execution_count": 1,
   "metadata": {},
   "outputs": [
    {
     "data": {
      "text/plain": [
       "'/home/AD_classify'"
      ]
     },
     "execution_count": 1,
     "metadata": {},
     "output_type": "execute_result"
    }
   ],
   "source": [
    "pwd"
   ]
  },
  {
   "cell_type": "code",
   "execution_count": null,
   "metadata": {},
   "outputs": [],
   "source": [
    "# !/usr/bin/python  \n",
    "# -*- coding:utf8 -*-  \n",
    "  \n",
    "import os\n",
    "import sys\n",
    "import shutil\n",
    "\n",
    "def ReName(filpath, dstpath):\n",
    "    file_list = os.listdir(filpath)\n",
    "    print(file_list)\n",
    "    for video_index in range(0, len(file_list)):\n",
    "        full_name = os.path.join(filpath, file_list[video_index])\n",
    "        print(full_name)\n",
    "        file = os.listdir(full_name)\n",
    "        print(file)\n",
    "        for file_name in file:\n",
    "            src = os.path.join(full_name,file_name)\n",
    "            print(src)\n",
    "            dst = os.path.join(full_name, str(file_list[video_index]) + '_'+ file_name)\n",
    "            os.rename(src,dst)\n",
    "            # shutil.move(src,dstpath)\n",
    "            \n",
    "if __name__ == '__main__':\n",
    "    filepath = './data_v2/Test_all'\n",
    "    dstpath = './data_v2/Test_GM'\n",
    "    ReName(filepath,dstpath)"
   ]
  },
  {
   "cell_type": "code",
   "execution_count": null,
   "metadata": {},
   "outputs": [],
   "source": []
  },
  {
   "cell_type": "code",
   "execution_count": 21,
   "metadata": {},
   "outputs": [
    {
     "name": "stdout",
     "output_type": "stream",
     "text": [
      "(12810, 3)\n"
     ]
    },
    {
     "data": {
      "text/html": [
       "<div>\n",
       "<style scoped>\n",
       "    .dataframe tbody tr th:only-of-type {\n",
       "        vertical-align: middle;\n",
       "    }\n",
       "\n",
       "    .dataframe tbody tr th {\n",
       "        vertical-align: top;\n",
       "    }\n",
       "\n",
       "    .dataframe thead th {\n",
       "        text-align: right;\n",
       "    }\n",
       "</style>\n",
       "<table border=\"1\" class=\"dataframe\">\n",
       "  <thead>\n",
       "    <tr style=\"text-align: right;\">\n",
       "      <th></th>\n",
       "      <th>id</th>\n",
       "      <th>score</th>\n",
       "      <th>label</th>\n",
       "    </tr>\n",
       "  </thead>\n",
       "  <tbody>\n",
       "    <tr>\n",
       "      <th>0</th>\n",
       "      <td>52_z_54</td>\n",
       "      <td>0.284814</td>\n",
       "      <td>NC</td>\n",
       "    </tr>\n",
       "    <tr>\n",
       "      <th>1</th>\n",
       "      <td>61_x_77</td>\n",
       "      <td>0.934384</td>\n",
       "      <td>AD</td>\n",
       "    </tr>\n",
       "    <tr>\n",
       "      <th>2</th>\n",
       "      <td>20_x_44</td>\n",
       "      <td>0.996885</td>\n",
       "      <td>AD</td>\n",
       "    </tr>\n",
       "    <tr>\n",
       "      <th>3</th>\n",
       "      <td>53_y_37</td>\n",
       "      <td>0.977187</td>\n",
       "      <td>AD</td>\n",
       "    </tr>\n",
       "    <tr>\n",
       "      <th>4</th>\n",
       "      <td>38_y_99</td>\n",
       "      <td>0.192657</td>\n",
       "      <td>NC</td>\n",
       "    </tr>\n",
       "  </tbody>\n",
       "</table>\n",
       "</div>"
      ],
      "text/plain": [
       "        id     score label\n",
       "0  52_z_54  0.284814    NC\n",
       "1  61_x_77  0.934384    AD\n",
       "2  20_x_44  0.996885    AD\n",
       "3  53_y_37  0.977187    AD\n",
       "4  38_y_99  0.192657    NC"
      ]
     },
     "execution_count": 21,
     "metadata": {},
     "output_type": "execute_result"
    }
   ],
   "source": [
    "import pandas as pd\n",
    "\n",
    "df = pd.read_table('./data_v4/predict_res_0711_cov.txt',sep = '\\t', header = None)\n",
    "df.columns = ['id','score','label']\n",
    "print(df.shape)\n",
    "df.head()"
   ]
  },
  {
   "cell_type": "code",
   "execution_count": 22,
   "metadata": {},
   "outputs": [],
   "source": [
    "df['id_mark'] = df['id'].str.split('_').str.get(0)\n",
    "df.loc[df['label']=='AD','label'] = 1\n",
    "df.loc[df['label']=='NC','label'] = 0"
   ]
  },
  {
   "cell_type": "code",
   "execution_count": 23,
   "metadata": {},
   "outputs": [
    {
     "data": {
      "text/html": [
       "<div>\n",
       "<style scoped>\n",
       "    .dataframe tbody tr th:only-of-type {\n",
       "        vertical-align: middle;\n",
       "    }\n",
       "\n",
       "    .dataframe tbody tr th {\n",
       "        vertical-align: top;\n",
       "    }\n",
       "\n",
       "    .dataframe thead th {\n",
       "        text-align: right;\n",
       "    }\n",
       "</style>\n",
       "<table border=\"1\" class=\"dataframe\">\n",
       "  <thead>\n",
       "    <tr style=\"text-align: right;\">\n",
       "      <th></th>\n",
       "      <th>id</th>\n",
       "      <th>score</th>\n",
       "      <th>label</th>\n",
       "      <th>id_mark</th>\n",
       "    </tr>\n",
       "  </thead>\n",
       "  <tbody>\n",
       "    <tr>\n",
       "      <th>0</th>\n",
       "      <td>52_z_54</td>\n",
       "      <td>0.284814</td>\n",
       "      <td>0</td>\n",
       "      <td>52</td>\n",
       "    </tr>\n",
       "    <tr>\n",
       "      <th>1</th>\n",
       "      <td>61_x_77</td>\n",
       "      <td>0.934384</td>\n",
       "      <td>1</td>\n",
       "      <td>61</td>\n",
       "    </tr>\n",
       "    <tr>\n",
       "      <th>2</th>\n",
       "      <td>20_x_44</td>\n",
       "      <td>0.996885</td>\n",
       "      <td>1</td>\n",
       "      <td>20</td>\n",
       "    </tr>\n",
       "    <tr>\n",
       "      <th>3</th>\n",
       "      <td>53_y_37</td>\n",
       "      <td>0.977187</td>\n",
       "      <td>1</td>\n",
       "      <td>53</td>\n",
       "    </tr>\n",
       "    <tr>\n",
       "      <th>4</th>\n",
       "      <td>38_y_99</td>\n",
       "      <td>0.192657</td>\n",
       "      <td>0</td>\n",
       "      <td>38</td>\n",
       "    </tr>\n",
       "  </tbody>\n",
       "</table>\n",
       "</div>"
      ],
      "text/plain": [
       "        id     score label id_mark\n",
       "0  52_z_54  0.284814     0      52\n",
       "1  61_x_77  0.934384     1      61\n",
       "2  20_x_44  0.996885     1      20\n",
       "3  53_y_37  0.977187     1      53\n",
       "4  38_y_99  0.192657     0      38"
      ]
     },
     "execution_count": 23,
     "metadata": {},
     "output_type": "execute_result"
    }
   ],
   "source": [
    "df.head()"
   ]
  },
  {
   "cell_type": "code",
   "execution_count": 24,
   "metadata": {},
   "outputs": [],
   "source": [
    "def get_flag_num(group):\n",
    "    group['flag_num']= group['label'].sum()\n",
    "    \n",
    "    group['id_mark_num'] = len(group)\n",
    "    group['rate'] =  group['flag_num'] / group['id_mark_num']\n",
    "    return group\n",
    "df=df.groupby('id_mark').apply(get_flag_num)\n",
    "df.head()\n",
    "df.to_csv('./data_v4/predict_res_0711_cov.csv',sep = '\\t',index = False)"
   ]
  },
  {
   "cell_type": "code",
   "execution_count": null,
   "metadata": {},
   "outputs": [],
   "source": []
  },
  {
   "cell_type": "code",
   "execution_count": null,
   "metadata": {},
   "outputs": [],
   "source": []
  },
  {
   "cell_type": "code",
   "execution_count": 1,
   "metadata": {},
   "outputs": [
    {
     "name": "stdout",
     "output_type": "stream",
     "text": [
      "Compute mean and variance for training data\n",
      "1837\n",
      "([0.1328976, 0.1328976, 0.1328976], [0.20024128, 0.20024128, 0.20024128])\n"
     ]
    }
   ],
   "source": [
    "# 获取当前数据集的std和mean\n",
    "from torchvision.datasets import ImageFolder\n",
    "import torch\n",
    "import torchvision\n",
    "def getStat(train_data):\n",
    "    \n",
    "    print(\"Compute mean and variance for training data\")\n",
    "    print(len(train_data))\n",
    "    \n",
    "    train_loader = torch.utils.data.DataLoader(train_data,batch_size = 1,shuffle = False,num_workers = 0,pin_memory = True)\n",
    "    mean = torch.zeros(3)\n",
    "    std = torch.zeros(3)\n",
    "    \n",
    "    for x,_ in train_loader:\n",
    "        for d in range(3):\n",
    "            mean[d] += x[:,d,:,:].mean()\n",
    "            std[d] += x[:,d,:,:].std()\n",
    "    mean.div_(len(train_data))\n",
    "    std.div_(len(train_data))\n",
    "    return list(mean.numpy()),list(std.numpy())\n",
    "    \n",
    "train_dataset = ImageFolder(root = \"./data_v2/train_all\",transform=torchvision.transforms.ToTensor())\n",
    "print(getStat(train_dataset))"
   ]
  },
  {
   "cell_type": "code",
   "execution_count": 1,
   "metadata": {},
   "outputs": [
    {
     "data": {
      "text/plain": [
       "'/home/AD_classify'"
      ]
     },
     "execution_count": 1,
     "metadata": {},
     "output_type": "execute_result"
    }
   ],
   "source": [
    "pwd"
   ]
  },
  {
   "cell_type": "code",
   "execution_count": 10,
   "metadata": {},
   "outputs": [
    {
     "name": "stdout",
     "output_type": "stream",
     "text": [
      "Compute mean and variance for training data\n",
      "11734\n",
      "None\n"
     ]
    }
   ],
   "source": [
    "from torchvision.datasets import ImageFolder\n",
    "def getStat(train_data):\n",
    "    \n",
    "    print(\"Compute mean and variance for training data\")\n",
    "    print(len(train_data))\n",
    "    \n",
    "train_dataset = ImageFolder(root = \"./data/train_all\",transform = None)\n",
    "\n",
    "print(getStat(train_dataset))"
   ]
  },
  {
   "cell_type": "code",
   "execution_count": null,
   "metadata": {},
   "outputs": [],
   "source": []
  }
 ],
 "metadata": {
  "kernelspec": {
   "display_name": "Python 3",
   "language": "python",
   "name": "python3"
  },
  "language_info": {
   "codemirror_mode": {
    "name": "ipython",
    "version": 3
   },
   "file_extension": ".py",
   "mimetype": "text/x-python",
   "name": "python",
   "nbconvert_exporter": "python",
   "pygments_lexer": "ipython3",
   "version": "3.6.2"
  }
 },
 "nbformat": 4,
 "nbformat_minor": 4
}
